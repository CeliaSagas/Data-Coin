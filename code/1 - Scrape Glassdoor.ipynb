{
 "cells": [
  {
   "cell_type": "code",
   "execution_count": 1,
   "metadata": {},
   "outputs": [],
   "source": [
    "import os \n",
    "import time \n",
    "import pandas as pd\n",
    "from selenium import webdriver \n",
    "from selenium.common.exceptions import NoSuchElementException, ElementClickInterceptedException\n",
    "from selenium.webdriver.chrome.options import Options\n",
    "from bs4 import BeautifulSoup as bs\n",
    "chrome_options = Options()\n",
    "chrome_options.add_argument(\"--headless\")\n",
    "from selenium.webdriver.support.select import Select\n",
    "from selenium.webdriver.common.keys import Keys\n"
   ]
  },
  {
   "cell_type": "code",
   "execution_count": 2,
   "metadata": {},
   "outputs": [],
   "source": [
    "def get_salary(role, city, num):\n",
    "    \n",
    "    counter = 1\n",
    "   \n",
    "    url = \"https://glassdoor.com/Salaries/index.htm\"\n",
    "    driver = webdriver.Chrome(options=chrome_options)\n",
    "    driver.get(url)\n",
    "    \n",
    "    \n",
    "    \n",
    "    role_input = driver.find_element_by_name(\"sc.keyword\");\n",
    "    city_input = driver.find_element_by_id(\"LocationSearch\");\n",
    "    search = driver.find_element_by_id(\"HeroSearchButton\")\n",
    "    \n",
    "    role_input.send_keys(role);\n",
    "    city_input.clear()\n",
    "    city_input.send_keys(city);\n",
    "    search.submit();\n",
    "    \n",
    "    time.sleep(1)\n",
    "    \n",
    "    salary_post = driver.find_elements_by_xpath('.//div[@class=\"col px-xsm\"]/h3[@class=\"m-0 css-g261rn\"]/a[@href]')\n",
    "    \n",
    "    for post in salary_post:\n",
    "            elements= []\n",
    "            elements.append(post.get_attribute(\"href\"))\n",
    "            links = list(dict.fromkeys(elements))\n",
    "            time.sleep(.3)\n",
    "   \n",
    "    \n",
    "    \n",
    "            while len(links) < num:\n",
    "                \n",
    "                string = driver.current_url\n",
    "                split_at = -26\n",
    "                req1,req3 = string[:split_at], string[split_at:]\n",
    "                req2 = \"_IP\"\n",
    "                url2 = req1+req2+str(counter)+req3\n",
    "                driver.get(url2)\n",
    "               \n",
    "               \n",
    "                \n",
    "                print(\"Progress: {}\".format(\"\" + str(len(links)) + \"/\" + str(num)), \"Counter: \" + str(counter))\n",
    "                counter += 1\n",
    "                \n",
    "                \n",
    "                \n",
    "                \n",
    "                \n",
    "                time.sleep(1)\n",
    "                \n",
    "               \n",
    "                 \n",
    "    \n",
    "                salary_post = driver.find_elements_by_xpath('.//div[@class=\"col px-xsm\"]/h3[@class=\"m-0 css-g261rn\"]/a[@href]')\n",
    "            \n",
    "                for post in salary_post:\n",
    "                        elements= []\n",
    "                        elements.append(post.get_attribute(\"href\"))\n",
    "                        links2 = list(dict.fromkeys(elements))\n",
    "                        links.extend(links2)\n",
    "            \n",
    "                       \n",
    "            if len(links) >= num:\n",
    "                        break\n",
    "\n",
    "  \n",
    "   \n",
    "    company = []\n",
    "    size = []\n",
    "    employer_type=[]\n",
    "    revenue = []\n",
    "    founded = []\n",
    "    industry = []\n",
    "    headquarter=[]\n",
    "    job = []\n",
    "    internship = []\n",
    "    base_pay = []\n",
    "    low = []\n",
    "    q_25 = []\n",
    "    q_75 = []\n",
    "    high = []\n",
    "    additional_pay = []\n",
    "    cash_bonus = []\n",
    "    stock_bonus = []\n",
    "    total = []\n",
    "    confidence = []\n",
    "    reviews = []\n",
    "    jobs = []\n",
    "    salaries = []\n",
    "    interviews = []\n",
    "    benefits = []\n",
    "   \n",
    "    companies = {}\n",
    "\n",
    "\n",
    "    \n",
    "    \n",
    "    for link in links:\n",
    "    \n",
    "\n",
    "        driver = webdriver.Chrome(options=chrome_options)\n",
    "        driver.get(link)\n",
    "\n",
    "        time.sleep(1)\n",
    "\n",
    "\n",
    "\n",
    "        #name of company\n",
    "        try:\n",
    "            company.append(driver.find_elements_by_xpath(\"//span[@id='DivisionsDropdownComponent']\")[0].text)\n",
    "        except IndexError:\n",
    "            company.append(0)\n",
    "        try:\n",
    "            job.append(driver.find_elements_by_xpath('//div[@class=\"d-flex flex-column flex-lg-row align-items-sm-baseline\"]/h1[@class=\"m-0\"]')[0].text)\n",
    "        except IndexError:\n",
    "            job.append(0)\n",
    "        try:\n",
    "            internship.append(driver.find_elements_by_xpath('//span[@class=\"css-1lejymi css-l8qto0 ml-lg-std\"]')[0].text)\n",
    "        except IndexError:\n",
    "            internship.append(0)\n",
    "        #salary information\n",
    "        try:\n",
    "            base_pay.append(driver.find_elements_by_xpath('//h2[@class=\"d-inline mb-0 mt-sm css-1tx26uv\"]')[0].text)\n",
    "        except IndexError:\n",
    "            base_pay.append(0)\n",
    "\n",
    "        try:\n",
    "            low.append(driver.find_elements_by_xpath('//strong[@class=\"css-1uyte9r css-1qxtz39 css-fkag2m\"]')[0].text)\n",
    "        except:\n",
    "            low.append(0)\n",
    "        try:\n",
    "            q_25.append(driver.find_elements_by_xpath('//div[@class=\"d-flex flex-column css-12efcmn css-fajoci eb8fmw6\"]/strong[@class=\"css-1uyte9r css-1qxtz39 css-fkag2m\"]')[0].text)\n",
    "        except IndexError:\n",
    "            q_25.append(0)\n",
    "        try:    \n",
    "            q_75.append(driver.find_elements_by_xpath('//div[@class=\"d-flex flex-column css-12efcmn align-items-end css-p6bucf eb8fmw6\"]/strong[@class=\"css-1uyte9r css-1qxtz39 css-fkag2m\"]')[0].text)\n",
    "        except IndexError:\n",
    "            q_75.append(0)\n",
    "        try:    \n",
    "            high.append(driver.find_elements_by_xpath('//div[@class=\"d-flex my-xxsm css-79elbk e86zor80\"]//strong[2]')[0].text)\n",
    "        except IndexError:\n",
    "            high.append(0)\n",
    "        try:\n",
    "            total.append(driver.find_elements_by_xpath('//div[@class=\"col-12 col-lg-4 pl-0 pl-md-xxl pt\"]/h2[@class=\"m-0 css-5j5djr\"]')[0].text)\n",
    "        except IndexError:\n",
    "            total.append(0)\n",
    "\n",
    "            time.sleep(.3)\n",
    "\n",
    "        #datapoints on glassdoor for company\n",
    "        try:\n",
    "            confidence.append(driver.find_elements_by_xpath('//aside[@class=\"d-inline-flex [object Object] \"]/figcaption/span[@class=\"d-flex\"]/p[@class=\"m-0\"]')[0].text)\n",
    "        except:\n",
    "            confidence.append(0)\n",
    "        try:\n",
    "            reviews.append(driver.find_elements_by_xpath('//a[@class=\"eiCell cell reviews \"]//span[1]')[0].text)\n",
    "        except:\n",
    "            reviews.append(0)\n",
    "        try:\n",
    "            jobs.append(driver.find_elements_by_xpath('//a[@class=\"eiCell cell jobs \"]//span[1]')[0].text)\n",
    "        except:\n",
    "            jobs.append(0)\n",
    "        try:\n",
    "            salaries.append(driver.find_elements_by_xpath('//a[@class=\"eiCell cell salaries active\"]//span[1]')[0].text)\n",
    "        except IndexError:\n",
    "            salaries.append(0)\n",
    "        try:\n",
    "            interviews.append(driver.find_elements_by_xpath('//a[@class=\"eiCell cell interviews \"]//span[1]')[0].text)\n",
    "        except:\n",
    "            interviews.append(0)\n",
    "        try:\n",
    "            benefits.append(driver.find_elements_by_xpath('//a[@class=\"eiCell cell benefits \"]//span[1]')[0].text)\n",
    "        except: \n",
    "            benefits.append(0)\n",
    "\n",
    "        #additional benefits \n",
    "        try:\n",
    "            additional_pay.append(driver.find_elements_by_xpath('//div[@class=\"col-12 col-lg-7 d-flex align-items-baseline\"]/h2[@class=\"m-0 mx-xxsm\"]')[0].text)\n",
    "        except IndexError:\n",
    "            additional_pay.append(0)\n",
    "        try:\n",
    "            cash_bonus.append(driver.find_elements_by_xpath('//p[@class=\"order-1 order-lg-0 ml-auto ml-lg-0 my-0\"]')[0].text)\n",
    "        except IndexError:\n",
    "            cash_bonus.append(0)\n",
    "        try: \n",
    "            stock_bonus.append(driver.find_elements_by_xpath('//p[@class=\"order-1 order-lg-0 ml-auto ml-lg-0 my-0\"]')[0].text)\n",
    "        except IndexError:\n",
    "            stock_bonus.append(0)\n",
    "            \n",
    "        time.sleep(.3)\n",
    "        overview_post = driver.find_elements_by_xpath('.//div[@id=\"HierarchiesDropdown\"]/div[@class=\"hierarchiesDropdownInnerContent\"]/a[@href]')\n",
    "        try:\n",
    "            driver.get(overview_post[0].get_attribute(\"href\"))\n",
    "        except IndexError:\n",
    "            pass\n",
    "        \n",
    "        try:\n",
    "            size.append(driver.find_elements_by_xpath('//li[@class=\"d-flex align-items-center col-12 col-sm-6 p-0 m-0 pb-sm pr-sm-xxsm\"]/div[@class=\"css-19hiur5 css-dwl48b css-1cnqmgc\"]')[0].text)\n",
    "        except IndexError:\n",
    "            size.append(0)\n",
    "\n",
    "        try:\n",
    "            employer_type.append(driver.find_elements_by_xpath('//li[@class=\"d-flex align-items-center col-12 col-sm-6 p-0 m-0 pb-sm pr-sm-xxsm\"]/div[@class=\"css-19hiur5 css-dwl48b css-1cnqmgc\"]')[1].text)\n",
    "        except IndexError:\n",
    "            employer_type.append(0)\n",
    "\n",
    "        try:\n",
    "            revenue.append(driver.find_elements_by_xpath('//li[@class=\"d-flex align-items-center col-12 col-sm-6 p-0 m-0 pb-sm pr-sm-xxsm\"]/div[@class=\"css-19hiur5 css-dwl48b css-1cnqmgc\"]')[2].text)\n",
    "        except IndexError:\n",
    "            revenue.append(0)\n",
    "\n",
    "        try:\n",
    "            headquarter.append((driver.find_elements_by_xpath('//li[@class=\"d-flex align-items-center col-12 col-sm-6 p-0 m-0 pb-sm pl-sm-xxsm\"]/div[@class=\"css-19hiur5 css-dwl48b css-1cnqmgc\"]')[0].text))\n",
    "        except IndexError:\n",
    "            headquarter.append(0)\n",
    "    \n",
    "        try:\n",
    "            founded.append(driver.find_elements_by_xpath('//li[@class=\"d-flex align-items-center col-12 col-sm-6 p-0 m-0 pb-sm pl-sm-xxsm\"]/div[@class=\"css-19hiur5 css-dwl48b css-1cnqmgc\"]')[1].text)\n",
    "        except IndexError:\n",
    "            founded.append(0)\n",
    "\n",
    "        try:\n",
    "            industry.append(driver.find_elements_by_xpath('//li[@class=\"d-flex align-items-center col-12 col-sm-6 p-0 m-0 pb-sm pl-sm-xxsm\"]/div[@class=\"css-19hiur5 css-dwl48b css-1cnqmgc\"]')[2].text)\n",
    "        except IndexError:\n",
    "            industry.append(0)\n",
    "\n",
    "        \n",
    "\n",
    "    \n",
    "\n",
    "\n",
    "    #create dictionary \n",
    "    companies = {\"City\": city,\n",
    "             \"Company\": company, \n",
    "             \"Size\":size,\n",
    "             \"Type\": employer_type,\n",
    "             \"Revenue\": revenue,\n",
    "             \"Headquarter\" : headquarter,\n",
    "             \"Founded\" : founded,\n",
    "             \"Industry\": industry,\n",
    "             \"Job\":job, \n",
    "             \"Internship\":internship, \n",
    "             \"Base_Pay\": base_pay,\n",
    "             \"Low\":low, \n",
    "             \"25_%\":q_25, \n",
    "             \"75_%\":q_75, \n",
    "             \"High\":high,\n",
    "             \"Additional_Pay_Avg\": additional_pay, \n",
    "             \"Cash_Bonus\":cash_bonus,\n",
    "             \"Stock_Bonus\":stock_bonus,\n",
    "             \"Total_Pay\":total, \n",
    "             \"Confidence\": confidence, \n",
    "             \"Reviews\":reviews, \n",
    "             \"Jobs\":jobs,\n",
    "             \"Salaries\": salaries, \n",
    "             \"Interviews\":interviews, \n",
    "             \"Benefits\":benefits}\n",
    "\n",
    "    companies_df = pd.DataFrame(companies)\n",
    "\n",
    "    return(companies_df)\n"
   ]
  },
  {
   "cell_type": "code",
   "execution_count": 3,
   "metadata": {},
   "outputs": [
    {
     "name": "stdout",
     "output_type": "stream",
     "text": [
      "Progress: 1/40 Counter: 1\n",
      "Progress: 21/40 Counter: 2\n"
     ]
    }
   ],
   "source": [
    "df_1 = get_salary(\"data scientist\", \"phoenix, az\", 40)"
   ]
  },
  {
   "cell_type": "code",
   "execution_count": 4,
   "metadata": {},
   "outputs": [],
   "source": [
    "df_1.to_csv(\"./data/phoenix.csv\", index=False)"
   ]
  },
  {
   "cell_type": "code",
   "execution_count": 5,
   "metadata": {},
   "outputs": [
    {
     "name": "stdout",
     "output_type": "stream",
     "text": [
      "Progress: 1/40 Counter: 1\n",
      "Progress: 21/40 Counter: 2\n"
     ]
    }
   ],
   "source": [
    "df_2 = get_salary(\"data scientist\", \"portland, or\", 40)"
   ]
  },
  {
   "cell_type": "code",
   "execution_count": 6,
   "metadata": {},
   "outputs": [],
   "source": [
    "df_2.to_csv(\"./data/portand.csv\", index=False)"
   ]
  },
  {
   "cell_type": "code",
   "execution_count": 7,
   "metadata": {},
   "outputs": [
    {
     "name": "stdout",
     "output_type": "stream",
     "text": [
      "Progress: 1/40 Counter: 1\n",
      "Progress: 21/40 Counter: 2\n"
     ]
    }
   ],
   "source": [
    "df_3 = get_salary(\"data science\", \"houston, tx\", 40)"
   ]
  },
  {
   "cell_type": "code",
   "execution_count": 8,
   "metadata": {},
   "outputs": [],
   "source": [
    "df_3.to_csv(\"./data/houston.csv\", index=False)"
   ]
  },
  {
   "cell_type": "code",
   "execution_count": 9,
   "metadata": {},
   "outputs": [
    {
     "name": "stdout",
     "output_type": "stream",
     "text": [
      "Progress: 1/40 Counter: 1\n",
      "Progress: 21/40 Counter: 2\n"
     ]
    }
   ],
   "source": [
    "df_4 = get_salary(\"data science\", \"seattle, wa\", 40)"
   ]
  },
  {
   "cell_type": "code",
   "execution_count": 10,
   "metadata": {},
   "outputs": [],
   "source": [
    "df_4.to_csv(\"./data/seattle.csv\", index = False)"
   ]
  },
  {
   "cell_type": "code",
   "execution_count": 11,
   "metadata": {},
   "outputs": [
    {
     "name": "stdout",
     "output_type": "stream",
     "text": [
      "Progress: 1/40 Counter: 1\n",
      "Progress: 21/40 Counter: 2\n"
     ]
    }
   ],
   "source": [
    "df_5 = get_salary(\"data science\", \"san francisco, ca\", 40)"
   ]
  },
  {
   "cell_type": "code",
   "execution_count": 12,
   "metadata": {},
   "outputs": [],
   "source": [
    "df_5.to_csv(\"./data/sanfrancisco.csv\", index = False)"
   ]
  },
  {
   "cell_type": "code",
   "execution_count": 13,
   "metadata": {},
   "outputs": [
    {
     "name": "stdout",
     "output_type": "stream",
     "text": [
      "Progress: 1/40 Counter: 1\n",
      "Progress: 21/40 Counter: 2\n"
     ]
    }
   ],
   "source": [
    "df_6 = get_salary(\"data scientist\", \"Austin, Tx\", 40)"
   ]
  },
  {
   "cell_type": "code",
   "execution_count": 14,
   "metadata": {},
   "outputs": [],
   "source": [
    "df_6.to_csv(\"./data/austin.csv\", index = False)"
   ]
  },
  {
   "cell_type": "code",
   "execution_count": 15,
   "metadata": {},
   "outputs": [
    {
     "name": "stdout",
     "output_type": "stream",
     "text": [
      "Progress: 1/40 Counter: 1\n",
      "Progress: 21/40 Counter: 2\n"
     ]
    }
   ],
   "source": [
    "df_7 = get_salary(\"data scientist\", \"san jose, ca\", 40)"
   ]
  },
  {
   "cell_type": "code",
   "execution_count": 16,
   "metadata": {},
   "outputs": [],
   "source": [
    "df_7.to_csv(\"./data/sanjose.csv\", index=False)"
   ]
  },
  {
   "cell_type": "code",
   "execution_count": 17,
   "metadata": {},
   "outputs": [
    {
     "name": "stdout",
     "output_type": "stream",
     "text": [
      "Progress: 1/40 Counter: 1\n",
      "Progress: 21/40 Counter: 2\n"
     ]
    }
   ],
   "source": [
    "df_8 = get_salary(\"data scientist\", \"boston, ma\", 40)"
   ]
  },
  {
   "cell_type": "code",
   "execution_count": 18,
   "metadata": {},
   "outputs": [],
   "source": [
    "df_8.to_csv(\"./data/boston.csv\", index=False)"
   ]
  },
  {
   "cell_type": "code",
   "execution_count": 19,
   "metadata": {},
   "outputs": [
    {
     "name": "stdout",
     "output_type": "stream",
     "text": [
      "Progress: 1/40 Counter: 1\n",
      "Progress: 21/40 Counter: 2\n"
     ]
    }
   ],
   "source": [
    "df_9 = get_salary(\"data scientist\", \"washington, dc\", 40)"
   ]
  },
  {
   "cell_type": "code",
   "execution_count": 20,
   "metadata": {},
   "outputs": [],
   "source": [
    "df_9.to_csv(\"./data/washingtondc.csv\", index = False)"
   ]
  },
  {
   "cell_type": "code",
   "execution_count": 21,
   "metadata": {},
   "outputs": [
    {
     "name": "stdout",
     "output_type": "stream",
     "text": [
      "Progress: 1/40 Counter: 1\n",
      "Progress: 21/40 Counter: 2\n"
     ]
    }
   ],
   "source": [
    "df_10 = get_salary(\"data scientist\", \"philadelphia, pa\", 40)"
   ]
  },
  {
   "cell_type": "code",
   "execution_count": 22,
   "metadata": {},
   "outputs": [],
   "source": [
    "df_10.to_csv(\"./data/philadelphia.csv\", index=False)"
   ]
  },
  {
   "cell_type": "code",
   "execution_count": 23,
   "metadata": {},
   "outputs": [
    {
     "name": "stdout",
     "output_type": "stream",
     "text": [
      "Progress: 1/40 Counter: 1\n",
      "Progress: 21/40 Counter: 2\n"
     ]
    }
   ],
   "source": [
    "df_11 = get_salary(\"data scientist\", \"fremont, CA\", 40 )"
   ]
  },
  {
   "cell_type": "code",
   "execution_count": 24,
   "metadata": {},
   "outputs": [],
   "source": [
    "df_11.to_csv(\"./data/fremont.csv\", index=False)"
   ]
  },
  {
   "cell_type": "code",
   "execution_count": 26,
   "metadata": {},
   "outputs": [
    {
     "name": "stdout",
     "output_type": "stream",
     "text": [
      "Progress: 1/40 Counter: 1\n",
      "Progress: 21/40 Counter: 2\n"
     ]
    }
   ],
   "source": [
    "df_12 = get_salary(\"data scientist\", \"New York, NY\", 40)"
   ]
  },
  {
   "cell_type": "code",
   "execution_count": 27,
   "metadata": {},
   "outputs": [],
   "source": [
    "df_12.to_csv(\"./data/newyork.csv\", index= False)"
   ]
  },
  {
   "cell_type": "code",
   "execution_count": 28,
   "metadata": {},
   "outputs": [
    {
     "name": "stdout",
     "output_type": "stream",
     "text": [
      "Progress: 1/40 Counter: 1\n",
      "Progress: 21/40 Counter: 2\n"
     ]
    }
   ],
   "source": [
    "df_13 = get_salary(\"data scientist\", \"arlington, va\", 40)"
   ]
  },
  {
   "cell_type": "code",
   "execution_count": 29,
   "metadata": {},
   "outputs": [],
   "source": [
    "df_13.to_csv(\"./data/arlington.csv\", index=False)"
   ]
  },
  {
   "cell_type": "code",
   "execution_count": 30,
   "metadata": {},
   "outputs": [
    {
     "name": "stdout",
     "output_type": "stream",
     "text": [
      "Progress: 1/40 Counter: 1\n",
      "Progress: 21/40 Counter: 2\n"
     ]
    }
   ],
   "source": [
    "df_14 = get_salary(\"data scientist\", \"los angeles, ca\", 40)"
   ]
  },
  {
   "cell_type": "code",
   "execution_count": 31,
   "metadata": {},
   "outputs": [],
   "source": [
    "df_14.to_csv(\"losangeles.csv\", index=False)"
   ]
  },
  {
   "cell_type": "code",
   "execution_count": 32,
   "metadata": {},
   "outputs": [
    {
     "name": "stdout",
     "output_type": "stream",
     "text": [
      "Progress: 1/40 Counter: 1\n",
      "Progress: 21/40 Counter: 2\n"
     ]
    }
   ],
   "source": [
    "df_15 = get_salary(\"data scientist\", \"irvine, ca\", 40)"
   ]
  },
  {
   "cell_type": "code",
   "execution_count": 33,
   "metadata": {},
   "outputs": [],
   "source": [
    "df_15.to_csv(\"./data/irvine.csv\", index=False)"
   ]
  },
  {
   "cell_type": "code",
   "execution_count": 34,
   "metadata": {},
   "outputs": [
    {
     "name": "stdout",
     "output_type": "stream",
     "text": [
      "Progress: 1/40 Counter: 1\n",
      "Progress: 21/40 Counter: 2\n"
     ]
    }
   ],
   "source": [
    "df_16 = get_salary(\"data scientist\", \"chicago, il\", 40)"
   ]
  },
  {
   "cell_type": "code",
   "execution_count": 35,
   "metadata": {},
   "outputs": [],
   "source": [
    "df_16.to_csv(\"./data/chicaago.csv\", index=False)"
   ]
  },
  {
   "cell_type": "code",
   "execution_count": 36,
   "metadata": {},
   "outputs": [
    {
     "name": "stdout",
     "output_type": "stream",
     "text": [
      "Progress: 1/40 Counter: 1\n",
      "Progress: 21/40 Counter: 2\n"
     ]
    }
   ],
   "source": [
    "df_17 = get_salary(\"data scientist\",\"Minneapolis, MN\", 40)"
   ]
  },
  {
   "cell_type": "code",
   "execution_count": 37,
   "metadata": {},
   "outputs": [],
   "source": [
    "df_17.to_csv(\"./data/minneapolis.csv\", index=False)"
   ]
  },
  {
   "cell_type": "code",
   "execution_count": 38,
   "metadata": {},
   "outputs": [
    {
     "name": "stdout",
     "output_type": "stream",
     "text": [
      "Progress: 1/40 Counter: 1\n",
      "Progress: 21/40 Counter: 2\n"
     ]
    }
   ],
   "source": [
    "df_18 = get_salary(\"data scientist\", \"Baltimore, MD\", 40)"
   ]
  },
  {
   "cell_type": "code",
   "execution_count": 41,
   "metadata": {},
   "outputs": [],
   "source": [
    "df_18.to_csv(\"./data/Baltimore.csv\", index = False)"
   ]
  },
  {
   "cell_type": "code",
   "execution_count": 42,
   "metadata": {},
   "outputs": [
    {
     "name": "stdout",
     "output_type": "stream",
     "text": [
      "Progress: 1/40 Counter: 1\n",
      "Progress: 21/40 Counter: 2\n"
     ]
    }
   ],
   "source": [
    "df_19 = get_salary(\"data scientist\", \"San Diego, CA\", 40)"
   ]
  },
  {
   "cell_type": "code",
   "execution_count": 43,
   "metadata": {},
   "outputs": [],
   "source": [
    "df_19.to_csv(\"./data/sandiego.csv\", index= False)"
   ]
  },
  {
   "cell_type": "code",
   "execution_count": 44,
   "metadata": {},
   "outputs": [
    {
     "name": "stdout",
     "output_type": "stream",
     "text": [
      "Progress: 1/40 Counter: 1\n",
      "Progress: 21/40 Counter: 2\n"
     ]
    }
   ],
   "source": [
    "df_20 = get_salary(\"data scientist\", \"Palo Alto, CA\", 40 )"
   ]
  },
  {
   "cell_type": "code",
   "execution_count": 45,
   "metadata": {},
   "outputs": [],
   "source": [
    "df_20.to_csv(\"./data/paloalto.csv\", index= False)"
   ]
  },
  {
   "cell_type": "code",
   "execution_count": 46,
   "metadata": {},
   "outputs": [
    {
     "name": "stdout",
     "output_type": "stream",
     "text": [
      "Progress: 1/40 Counter: 1\n",
      "Progress: 21/40 Counter: 2\n"
     ]
    }
   ],
   "source": [
    "df_21 = get_salary(\"data scientist\", \"Dallas, Tx\", 40 )"
   ]
  },
  {
   "cell_type": "code",
   "execution_count": 47,
   "metadata": {},
   "outputs": [],
   "source": [
    "df_21.to_csv(\"./data/dallas.csv\", index= False)"
   ]
  },
  {
   "cell_type": "code",
   "execution_count": 48,
   "metadata": {},
   "outputs": [
    {
     "name": "stdout",
     "output_type": "stream",
     "text": [
      "Progress: 1/40 Counter: 1\n",
      "Progress: 21/40 Counter: 2\n"
     ]
    }
   ],
   "source": [
    "df_22 = get_salary(\"data scientist\", \"Miami, FL\", 40)"
   ]
  },
  {
   "cell_type": "code",
   "execution_count": 49,
   "metadata": {},
   "outputs": [],
   "source": [
    "df_22.to_csv(\"./data/miami.csv\", index= False)"
   ]
  },
  {
   "cell_type": "code",
   "execution_count": 50,
   "metadata": {},
   "outputs": [
    {
     "name": "stdout",
     "output_type": "stream",
     "text": [
      "Progress: 1/40 Counter: 1\n",
      "Progress: 21/40 Counter: 2\n"
     ]
    }
   ],
   "source": [
    "df_23 = get_salary(\"data scientist\", \"Atlanta, GA\", 40)"
   ]
  },
  {
   "cell_type": "code",
   "execution_count": 53,
   "metadata": {},
   "outputs": [],
   "source": [
    "df_23.to_csv(\"./data/atlanta.csv\", index= False)"
   ]
  },
  {
   "cell_type": "code",
   "execution_count": 54,
   "metadata": {},
   "outputs": [
    {
     "name": "stdout",
     "output_type": "stream",
     "text": [
      "Progress: 1/40 Counter: 1\n",
      "Progress: 21/40 Counter: 2\n"
     ]
    }
   ],
   "source": [
    "df_24 = get_salary(\"data scientist\", \"Cleveland, oh\", 40)\n",
    "df_24.to_csv(\"./data/cleveland.csv\", index= False)"
   ]
  },
  {
   "cell_type": "code",
   "execution_count": 55,
   "metadata": {},
   "outputs": [
    {
     "name": "stdout",
     "output_type": "stream",
     "text": [
      "Progress: 1/40 Counter: 1\n",
      "Progress: 21/40 Counter: 2\n"
     ]
    }
   ],
   "source": [
    "df_25 = get_salary(\"data scientist\", \"Detroit, Mi\", 40)\n",
    "df_25.to_csv(\"./data/detroit.csv\", index= False)"
   ]
  },
  {
   "cell_type": "code",
   "execution_count": 56,
   "metadata": {},
   "outputs": [
    {
     "name": "stdout",
     "output_type": "stream",
     "text": [
      "Progress: 1/40 Counter: 1\n",
      "Progress: 21/40 Counter: 2\n"
     ]
    }
   ],
   "source": [
    "df_26 = get_salary(\"data scientist\", \"Denver, co\", 40)\n",
    "df_26.to_csv(\"./data/denver.csv\", index= False)"
   ]
  },
  {
   "cell_type": "code",
   "execution_count": 57,
   "metadata": {},
   "outputs": [
    {
     "name": "stdout",
     "output_type": "stream",
     "text": [
      "Progress: 1/40 Counter: 1\n",
      "Progress: 21/40 Counter: 2\n"
     ]
    }
   ],
   "source": [
    "df_27 = get_salary(\"data scientist\", \"Orlando, FL\", 40)\n",
    "df_27.to_csv(\"./data/orlando.csv\", index= False)"
   ]
  },
  {
   "cell_type": "code",
   "execution_count": 58,
   "metadata": {},
   "outputs": [
    {
     "name": "stdout",
     "output_type": "stream",
     "text": [
      "Progress: 1/40 Counter: 1\n",
      "Progress: 21/40 Counter: 2\n"
     ]
    }
   ],
   "source": [
    "df_28 = get_salary(\"data scientist\", \"st.louis, mo\", 40)\n",
    "df_28.to_csv(\"./data/stlouis.csv\", index= False)"
   ]
  },
  {
   "cell_type": "code",
   "execution_count": 59,
   "metadata": {},
   "outputs": [
    {
     "name": "stdout",
     "output_type": "stream",
     "text": [
      "Progress: 1/40 Counter: 1\n",
      "Progress: 21/40 Counter: 2\n"
     ]
    }
   ],
   "source": [
    "df_29 = get_salary(\"data scientist\", \"charlotte, nc\", 40)\n",
    "df_29.to_csv(\"./data/charlotte.csv\", index= False)"
   ]
  },
  {
   "cell_type": "code",
   "execution_count": 60,
   "metadata": {},
   "outputs": [
    {
     "name": "stdout",
     "output_type": "stream",
     "text": [
      "Progress: 1/40 Counter: 1\n",
      "Progress: 21/40 Counter: 2\n"
     ]
    }
   ],
   "source": [
    "df_30 = get_salary(\"data scientist\", \"salt lake city, ut\", 40)\n",
    "df_30.to_csv(\"./data/saltlakecity.csv\", index= False)"
   ]
  },
  {
   "cell_type": "code",
   "execution_count": 61,
   "metadata": {},
   "outputs": [
    {
     "name": "stdout",
     "output_type": "stream",
     "text": [
      "Progress: 1/40 Counter: 1\n",
      "Progress: 21/40 Counter: 2\n"
     ]
    }
   ],
   "source": [
    "df_31 = get_salary(\"data scientist\", \"columbus, oh\", 40)\n",
    "df_31.to_csv(\"./data/columbus.csv\", index= False)"
   ]
  },
  {
   "cell_type": "code",
   "execution_count": 62,
   "metadata": {},
   "outputs": [
    {
     "name": "stdout",
     "output_type": "stream",
     "text": [
      "Progress: 1/40 Counter: 1\n",
      "Progress: 21/40 Counter: 2\n",
      "Progress: 24/40 Counter: 3\n",
      "Progress: 27/40 Counter: 4\n",
      "Progress: 27/40 Counter: 5\n",
      "Progress: 30/40 Counter: 6\n",
      "Progress: 33/40 Counter: 7\n",
      "Progress: 36/40 Counter: 8\n",
      "Progress: 36/40 Counter: 9\n",
      "Progress: 39/40 Counter: 10\n"
     ]
    }
   ],
   "source": [
    "df_32 = get_salary(\"data scientist\", \"las vegas, nv\", 40)\n",
    "df_32.to_csv(\"./data/vegas.csv\", index= False)"
   ]
  },
  {
   "cell_type": "code",
   "execution_count": 63,
   "metadata": {},
   "outputs": [
    {
     "name": "stdout",
     "output_type": "stream",
     "text": [
      "Progress: 1/40 Counter: 1\n",
      "Progress: 21/40 Counter: 2\n"
     ]
    }
   ],
   "source": [
    "df_33 = get_salary(\"data scientist\", \"kansas city, mo\", 40)\n",
    "df_33.to_csv(\"./data/kansascity.csv\", index= False)"
   ]
  },
  {
   "cell_type": "code",
   "execution_count": 64,
   "metadata": {},
   "outputs": [
    {
     "name": "stdout",
     "output_type": "stream",
     "text": [
      "Progress: 1/40 Counter: 1\n",
      "Progress: 21/40 Counter: 2\n"
     ]
    }
   ],
   "source": [
    "df_34 = get_salary(\"data scientist\", \"indianapolis, in\", 40)\n",
    "df_34.to_csv(\"./data/indianapolis.csv\", index= False)"
   ]
  },
  {
   "cell_type": "code",
   "execution_count": 65,
   "metadata": {},
   "outputs": [
    {
     "name": "stdout",
     "output_type": "stream",
     "text": [
      "Progress: 1/40 Counter: 1\n",
      "Progress: 21/40 Counter: 2\n"
     ]
    }
   ],
   "source": [
    "df_35 = get_salary(\"data scientist\", \"cincinnati, oh\", 40)\n",
    "df_35.to_csv(\"./data/cincinnati.csv\", index= False)"
   ]
  },
  {
   "cell_type": "code",
   "execution_count": 67,
   "metadata": {},
   "outputs": [
    {
     "name": "stdout",
     "output_type": "stream",
     "text": [
      "Progress: 1/40 Counter: 1\n",
      "Progress: 21/40 Counter: 2\n"
     ]
    }
   ],
   "source": [
    "df_36 = get_salary(\"data scientist\", \"raleigh, nc\", 40)\n",
    "df_36.to_csv(\"./data/raleigh.csv\", index= False)"
   ]
  },
  {
   "cell_type": "code",
   "execution_count": 68,
   "metadata": {},
   "outputs": [],
   "source": [
    "#combine into one csv\n",
    "\n",
    "dirpath = (os.path.expanduser(\"./data/\"))\n",
    "output = (os.path.expanduser(\"./salary_data.csv\"))\n",
    "csvout_lst = []\n",
    "files = [os.path.join(dirpath, fname) for fname in os.listdir(dirpath)]\n",
    "\n",
    "for filename in sorted(files):\n",
    "    data = pd.read_csv(filename, sep=',', index_col=0, header=0)\n",
    "    csvout_lst.append(data)\n",
    "\n",
    "pd.concat(csvout_lst).to_csv(output)"
   ]
  },
  {
   "cell_type": "code",
   "execution_count": null,
   "metadata": {},
   "outputs": [],
   "source": []
  },
  {
   "cell_type": "markdown",
   "metadata": {},
   "source": [
    "# "
   ]
  }
 ],
 "metadata": {
  "kernelspec": {
   "display_name": "Python 3",
   "language": "python",
   "name": "python3"
  },
  "language_info": {
   "codemirror_mode": {
    "name": "ipython",
    "version": 3
   },
   "file_extension": ".py",
   "mimetype": "text/x-python",
   "name": "python",
   "nbconvert_exporter": "python",
   "pygments_lexer": "ipython3",
   "version": "3.8.5"
  }
 },
 "nbformat": 4,
 "nbformat_minor": 4
}
