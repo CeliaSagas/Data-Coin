{
 "cells": [
  {
   "cell_type": "code",
   "execution_count": 78,
   "metadata": {},
   "outputs": [],
   "source": [
    "import os \n",
    "import time \n",
    "import pandas as pd\n",
    "from selenium import webdriver \n",
    "from selenium.common.exceptions import NoSuchElementException, ElementClickInterceptedException\n",
    "from selenium.webdriver.chrome.options import Options\n",
    "from bs4 import BeautifulSoup as bs\n",
    "chrome_options = Options()\n",
    "chrome_options.add_argument(\"--headless\")\n",
    "from selenium.webdriver.support.select import Select\n",
    "from selenium.webdriver.common.keys import Keys\n",
    "import matplotlib.pyplot as plt\n",
    "import seaborn as sns\n",
    "from selenium.webdriver.common.keys import Keys"
   ]
  },
  {
   "cell_type": "code",
   "execution_count": 81,
   "metadata": {},
   "outputs": [],
   "source": [
    "def get_col(list):\n",
    "    \n",
    "\n",
    "   \n",
    "    url = \"https://www.numbeo.com/cost-of-living/rankings.jsp\"\n",
    "    driver = webdriver.Chrome(options=chrome_options)\n",
    "    driver.get(url)\n",
    "    \n",
    "    city_name = []\n",
    "    col_index = []\n",
    "    rent_index = []\n",
    "    col_rent=[]\n",
    "    purchasing_power = []\n",
    "    cost_of_living = {}\n",
    "    \n",
    "    for city in list:\n",
    "        city_input = driver.find_element_by_xpath('//input[@type=\"search\"]');\n",
    "    \n",
    "    \n",
    "        city_input.clear()\n",
    "        city_input.send_keys(city);\n",
    "   \n",
    "        time.sleep(1)\n",
    "    \n",
    "\n",
    "  \n",
    "   \n",
    "        \n",
    "\n",
    "\n",
    "        #city name \n",
    "        \n",
    "        try: \n",
    "            city_name.append(city)\n",
    "        except IndexError:\n",
    "            city_name.append('Error')\n",
    "            \n",
    "        #cost of living index\n",
    "        try:\n",
    "            col_index.append(driver.find_elements_by_xpath('//tr[@style=\"width: 100%\"]//td[3]')[0].text)\n",
    "        except IndexError:\n",
    "            col_index.append(0)\n",
    "\n",
    "        #rent index \n",
    "        try:\n",
    "            rent_index.append(driver.find_elements_by_xpath('//tr[@style=\"width: 100%\"]//td[4]')[0].text)\n",
    "        except IndexError:\n",
    "            rent_index.append(0)\n",
    "\n",
    "        #cost of living plus rent index \n",
    "        try:\n",
    "            col_rent.append(driver.find_elements_by_xpath('//tr[@style=\"width: 100%\"]//td[5]')[0].text)\n",
    "        except IndexError:\n",
    "            col_rent.append(0)\n",
    "\n",
    "        #purchasing power \n",
    "        try:\n",
    "            purchasing_power.append(driver.find_elements_by_xpath('//tr[@style=\"width: 100%\"]//td[8]')[0].text)\n",
    "        except IndexError:\n",
    "            purchasing_power.append(0)\n",
    "\n",
    "\n",
    "\n",
    "\n",
    "\n",
    "    #create dictionary \n",
    "    cost_of_living = {\"City\": city_name,\n",
    "             \"COL\": col_index, \n",
    "             \"Rent\":rent_index,\n",
    "             \"COL_Plus_Rent\": col_rent,\n",
    "             \"Purchasing_Power\": purchasing_power\n",
    "             }\n",
    "\n",
    "    col_df = pd.DataFrame(cost_of_living)\n",
    "\n",
    "    return(col_df)\n"
   ]
  },
  {
   "cell_type": "code",
   "execution_count": 82,
   "metadata": {},
   "outputs": [
    {
     "data": {
      "text/html": [
       "<div>\n",
       "<style scoped>\n",
       "    .dataframe tbody tr th:only-of-type {\n",
       "        vertical-align: middle;\n",
       "    }\n",
       "\n",
       "    .dataframe tbody tr th {\n",
       "        vertical-align: top;\n",
       "    }\n",
       "\n",
       "    .dataframe thead th {\n",
       "        text-align: right;\n",
       "    }\n",
       "</style>\n",
       "<table border=\"1\" class=\"dataframe\">\n",
       "  <thead>\n",
       "    <tr style=\"text-align: right;\">\n",
       "      <th></th>\n",
       "      <th>City</th>\n",
       "      <th>COL</th>\n",
       "      <th>Rent</th>\n",
       "      <th>COL_Plus_Rent</th>\n",
       "      <th>Purchasing_Power</th>\n",
       "    </tr>\n",
       "  </thead>\n",
       "  <tbody>\n",
       "    <tr>\n",
       "      <th>31</th>\n",
       "      <td>chicago, il</td>\n",
       "      <td>78.90</td>\n",
       "      <td>59.84</td>\n",
       "      <td>70.08</td>\n",
       "      <td>107.54</td>\n",
       "    </tr>\n",
       "    <tr>\n",
       "      <th>32</th>\n",
       "      <td>Minneapolis, MN</td>\n",
       "      <td>81.37</td>\n",
       "      <td>46.50</td>\n",
       "      <td>65.24</td>\n",
       "      <td>99.86</td>\n",
       "    </tr>\n",
       "    <tr>\n",
       "      <th>33</th>\n",
       "      <td>Baltimore, MD</td>\n",
       "      <td>72.38</td>\n",
       "      <td>44.68</td>\n",
       "      <td>59.56</td>\n",
       "      <td>115.56</td>\n",
       "    </tr>\n",
       "    <tr>\n",
       "      <th>34</th>\n",
       "      <td>San Diego, CA</td>\n",
       "      <td>75.71</td>\n",
       "      <td>70.63</td>\n",
       "      <td>73.36</td>\n",
       "      <td>106.67</td>\n",
       "    </tr>\n",
       "    <tr>\n",
       "      <th>35</th>\n",
       "      <td>Palo Alto, CA</td>\n",
       "      <td>0</td>\n",
       "      <td>0</td>\n",
       "      <td>0</td>\n",
       "      <td>0</td>\n",
       "    </tr>\n",
       "  </tbody>\n",
       "</table>\n",
       "</div>"
      ],
      "text/plain": [
       "               City    COL   Rent COL_Plus_Rent Purchasing_Power\n",
       "31      chicago, il  78.90  59.84         70.08           107.54\n",
       "32  Minneapolis, MN  81.37  46.50         65.24            99.86\n",
       "33    Baltimore, MD  72.38  44.68         59.56           115.56\n",
       "34    San Diego, CA  75.71  70.63         73.36           106.67\n",
       "35    Palo Alto, CA      0      0             0                0"
      ]
     },
     "execution_count": 82,
     "metadata": {},
     "output_type": "execute_result"
    }
   ],
   "source": [
    "#collecting data using the scraping tool\n",
    "\n",
    "project_list = [\"Dallas, tx\",\"Miami, fl\",\"Atlanta, ga\",\"Detroit, mi\",\"Cleveland, oh\",\"Denver, co\",\n",
    "                \"Orlando, fl\",\"st.louis, mo\",\"Charlotte, nc\",\"Salt Lake City, ut\",\"Columbus, oh\",\"Las Vegas, nv\",\n",
    "                \"Kansas City, mo\" ,\"Indianapolis, in\",\"Cincinnati, oh\",\"Raleigh, nc\",\"phoenix, az\",\n",
    "                \"portland, or\",\"houston, tx\",\"seattle, wa\",\"san francisco, ca\",\"Austin, Tx\",\"san jose, ca\",\n",
    "                \"boston, ma\",\"washington, dc\",\"philadelphia, pa\",\"fremont, CA\",\"New York, NY\",\"arlington, va\",\n",
    "                \"los angeles, ca\",\"irvine, ca\",\"chicago, il\",\"Minneapolis, MN\",\"Baltimore, MD\",\"San Diego, CA\",\n",
    "                \"Palo Alto, CA\"]\n",
    "COL_index = get_col(project_list)\n",
    "COL_index.tail()"
   ]
  },
  {
   "cell_type": "code",
   "execution_count": 83,
   "metadata": {},
   "outputs": [
    {
     "data": {
      "text/plain": [
       "City                object\n",
       "COL                 object\n",
       "Rent                object\n",
       "COL_Plus_Rent       object\n",
       "Purchasing_Power    object\n",
       "dtype: object"
      ]
     },
     "execution_count": 83,
     "metadata": {},
     "output_type": "execute_result"
    }
   ],
   "source": [
    "#viewing column data types\n",
    "\n",
    "COL_index.dtypes"
   ]
  },
  {
   "cell_type": "code",
   "execution_count": 84,
   "metadata": {},
   "outputs": [
    {
     "data": {
      "text/plain": [
       "City                 object\n",
       "COL                 float64\n",
       "Rent                float64\n",
       "COL_Plus_Rent       float64\n",
       "Purchasing_Power    float64\n",
       "dtype: object"
      ]
     },
     "execution_count": 84,
     "metadata": {},
     "output_type": "execute_result"
    }
   ],
   "source": [
    "#converting num columns to num types \n",
    "\n",
    "num_cols = [\"COL\", \"Rent\", \"COL_Plus_Rent\", \"Purchasing_Power\"]\n",
    "\n",
    "COL_index[num_cols] = COL_index[num_cols].apply(pd.to_numeric)\n",
    "\n",
    "COL_index.dtypes"
   ]
  },
  {
   "cell_type": "code",
   "execution_count": 97,
   "metadata": {},
   "outputs": [],
   "source": [
    "#making a copy of the df\n",
    "\n",
    "cost_of_living=COL_index.copy()"
   ]
  },
  {
   "cell_type": "code",
   "execution_count": 98,
   "metadata": {},
   "outputs": [
    {
     "data": {
      "text/html": [
       "<div>\n",
       "<style scoped>\n",
       "    .dataframe tbody tr th:only-of-type {\n",
       "        vertical-align: middle;\n",
       "    }\n",
       "\n",
       "    .dataframe tbody tr th {\n",
       "        vertical-align: top;\n",
       "    }\n",
       "\n",
       "    .dataframe thead th {\n",
       "        text-align: right;\n",
       "    }\n",
       "</style>\n",
       "<table border=\"1\" class=\"dataframe\">\n",
       "  <thead>\n",
       "    <tr style=\"text-align: right;\">\n",
       "      <th></th>\n",
       "      <th>City</th>\n",
       "      <th>COL</th>\n",
       "      <th>Rent</th>\n",
       "      <th>COL_Plus_Rent</th>\n",
       "      <th>Purchasing_Power</th>\n",
       "    </tr>\n",
       "  </thead>\n",
       "  <tbody>\n",
       "    <tr>\n",
       "      <th>0</th>\n",
       "      <td>DALLAS, TX</td>\n",
       "      <td>67.72</td>\n",
       "      <td>50.13</td>\n",
       "      <td>59.58</td>\n",
       "      <td>131.77</td>\n",
       "    </tr>\n",
       "    <tr>\n",
       "      <th>1</th>\n",
       "      <td>MIAMI, FL</td>\n",
       "      <td>78.96</td>\n",
       "      <td>64.31</td>\n",
       "      <td>72.18</td>\n",
       "      <td>74.75</td>\n",
       "    </tr>\n",
       "    <tr>\n",
       "      <th>2</th>\n",
       "      <td>ATLANTA, GA</td>\n",
       "      <td>76.89</td>\n",
       "      <td>50.83</td>\n",
       "      <td>64.83</td>\n",
       "      <td>116.46</td>\n",
       "    </tr>\n",
       "    <tr>\n",
       "      <th>3</th>\n",
       "      <td>DETROIT, MI</td>\n",
       "      <td>67.46</td>\n",
       "      <td>39.18</td>\n",
       "      <td>54.37</td>\n",
       "      <td>100.69</td>\n",
       "    </tr>\n",
       "    <tr>\n",
       "      <th>4</th>\n",
       "      <td>CLEVELAND, OH</td>\n",
       "      <td>76.77</td>\n",
       "      <td>38.41</td>\n",
       "      <td>59.02</td>\n",
       "      <td>100.60</td>\n",
       "    </tr>\n",
       "  </tbody>\n",
       "</table>\n",
       "</div>"
      ],
      "text/plain": [
       "            City    COL   Rent  COL_Plus_Rent  Purchasing_Power\n",
       "0     DALLAS, TX  67.72  50.13          59.58            131.77\n",
       "1      MIAMI, FL  78.96  64.31          72.18             74.75\n",
       "2    ATLANTA, GA  76.89  50.83          64.83            116.46\n",
       "3    DETROIT, MI  67.46  39.18          54.37            100.69\n",
       "4  CLEVELAND, OH  76.77  38.41          59.02            100.60"
      ]
     },
     "execution_count": 98,
     "metadata": {},
     "output_type": "execute_result"
    }
   ],
   "source": [
    "#converting city names to upper case \n",
    "\n",
    "cost_of_living['City'] = cost_of_living['City'].str.upper()\n",
    "cost_of_living.head()"
   ]
  },
  {
   "cell_type": "code",
   "execution_count": 99,
   "metadata": {},
   "outputs": [
    {
     "data": {
      "text/plain": [
       "<AxesSubplot:xlabel='COL', ylabel='Count'>"
      ]
     },
     "execution_count": 99,
     "metadata": {},
     "output_type": "execute_result"
    },
    {
     "data": {
      "image/png": "[encoded data removed]",
      "text/plain": [
       "<Figure size 432x288 with 1 Axes>"
      ]
     },
     "metadata": {
      "needs_background": "light"
     },
     "output_type": "display_data"
    }
   ],
   "source": [
    "#histogram of cost of living \n",
    "\n",
    "sns.histplot(data=cost_of_living, x=\"COL\")"
   ]
  },
  {
   "cell_type": "code",
   "execution_count": 100,
   "metadata": {},
   "outputs": [
    {
     "data": {
      "text/html": [
       "<div>\n",
       "<style scoped>\n",
       "    .dataframe tbody tr th:only-of-type {\n",
       "        vertical-align: middle;\n",
       "    }\n",
       "\n",
       "    .dataframe tbody tr th {\n",
       "        vertical-align: top;\n",
       "    }\n",
       "\n",
       "    .dataframe thead th {\n",
       "        text-align: right;\n",
       "    }\n",
       "</style>\n",
       "<table border=\"1\" class=\"dataframe\">\n",
       "  <thead>\n",
       "    <tr style=\"text-align: right;\">\n",
       "      <th></th>\n",
       "      <th>City</th>\n",
       "      <th>COL</th>\n",
       "      <th>Rent</th>\n",
       "      <th>COL_Plus_Rent</th>\n",
       "      <th>Purchasing_Power</th>\n",
       "    </tr>\n",
       "  </thead>\n",
       "  <tbody>\n",
       "    <tr>\n",
       "      <th>7</th>\n",
       "      <td>ST.LOUIS, MO</td>\n",
       "      <td>0.0</td>\n",
       "      <td>0.0</td>\n",
       "      <td>0.0</td>\n",
       "      <td>0.0</td>\n",
       "    </tr>\n",
       "    <tr>\n",
       "      <th>28</th>\n",
       "      <td>ARLINGTON, VA</td>\n",
       "      <td>0.0</td>\n",
       "      <td>0.0</td>\n",
       "      <td>0.0</td>\n",
       "      <td>0.0</td>\n",
       "    </tr>\n",
       "    <tr>\n",
       "      <th>35</th>\n",
       "      <td>PALO ALTO, CA</td>\n",
       "      <td>0.0</td>\n",
       "      <td>0.0</td>\n",
       "      <td>0.0</td>\n",
       "      <td>0.0</td>\n",
       "    </tr>\n",
       "  </tbody>\n",
       "</table>\n",
       "</div>"
      ],
      "text/plain": [
       "             City  COL  Rent  COL_Plus_Rent  Purchasing_Power\n",
       "7    ST.LOUIS, MO  0.0   0.0            0.0               0.0\n",
       "28  ARLINGTON, VA  0.0   0.0            0.0               0.0\n",
       "35  PALO ALTO, CA  0.0   0.0            0.0               0.0"
      ]
     },
     "execution_count": 100,
     "metadata": {},
     "output_type": "execute_result"
    }
   ],
   "source": [
    "#rows equal to 0 values\n",
    "\n",
    "cost_of_living[cost_of_living[\"COL\"]==0]"
   ]
  },
  {
   "cell_type": "code",
   "execution_count": 101,
   "metadata": {},
   "outputs": [],
   "source": [
    "#Because cost of living index is missing for these three cities,\n",
    "#they will be substituted with the closest geographical city that most closely \n",
    "#resembles socio economic statistics of these cities \n",
    "#Palo Alto - San Jose\n",
    "#St. Louis, - Indianapolis,in\n",
    "#Arlington,va - Washington DC \n",
    "\n",
    "cost_of_living.loc[[7],:] = cost_of_living[cost_of_living[\"City\"]==\"INDIANAPOLIS, IN\"].values\n",
    "cost_of_living.loc[[28],:] = cost_of_living[cost_of_living[\"City\"]==\"WASHINGTON, DC\"].values\n",
    "cost_of_living.loc[[35],:] = cost_of_living[cost_of_living[\"City\"]==\"SAN JOSE, CA\"].values"
   ]
  },
  {
   "cell_type": "code",
   "execution_count": 102,
   "metadata": {},
   "outputs": [
    {
     "data": {
      "text/html": [
       "<div>\n",
       "<style scoped>\n",
       "    .dataframe tbody tr th:only-of-type {\n",
       "        vertical-align: middle;\n",
       "    }\n",
       "\n",
       "    .dataframe tbody tr th {\n",
       "        vertical-align: top;\n",
       "    }\n",
       "\n",
       "    .dataframe thead th {\n",
       "        text-align: right;\n",
       "    }\n",
       "</style>\n",
       "<table border=\"1\" class=\"dataframe\">\n",
       "  <thead>\n",
       "    <tr style=\"text-align: right;\">\n",
       "      <th></th>\n",
       "      <th>City</th>\n",
       "      <th>COL</th>\n",
       "      <th>Rent</th>\n",
       "      <th>COL_Plus_Rent</th>\n",
       "      <th>Purchasing_Power</th>\n",
       "    </tr>\n",
       "  </thead>\n",
       "  <tbody>\n",
       "  </tbody>\n",
       "</table>\n",
       "</div>"
      ],
      "text/plain": [
       "Empty DataFrame\n",
       "Columns: [City, COL, Rent, COL_Plus_Rent, Purchasing_Power]\n",
       "Index: []"
      ]
     },
     "execution_count": 102,
     "metadata": {},
     "output_type": "execute_result"
    }
   ],
   "source": [
    "#checking for any more missing values \n",
    "\n",
    "cost_of_living[cost_of_living[\"COL\"]==0]"
   ]
  },
  {
   "cell_type": "code",
   "execution_count": 103,
   "metadata": {},
   "outputs": [
    {
     "data": {
      "text/plain": [
       "<AxesSubplot:xlabel='COL', ylabel='Count'>"
      ]
     },
     "execution_count": 103,
     "metadata": {},
     "output_type": "execute_result"
    },
    {
     "data": {
      "image/png": "[encoded data removed]",
      "text/plain": [
       "<Figure size 432x288 with 1 Axes>"
      ]
     },
     "metadata": {
      "needs_background": "light"
     },
     "output_type": "display_data"
    }
   ],
   "source": [
    "#histogram of COL values\n",
    "\n",
    "sns.histplot(data=cost_of_living, x=\"COL\")"
   ]
  },
  {
   "cell_type": "code",
   "execution_count": 104,
   "metadata": {},
   "outputs": [
    {
     "data": {
      "text/plain": [
       "<AxesSubplot:xlabel='COL_Plus_Rent', ylabel='Count'>"
      ]
     },
     "execution_count": 104,
     "metadata": {},
     "output_type": "execute_result"
    },
    {
     "data": {
      "image/png": "[encoded data removed]",
      "text/plain": [
       "<Figure size 432x288 with 1 Axes>"
      ]
     },
     "metadata": {
      "needs_background": "light"
     },
     "output_type": "display_data"
    }
   ],
   "source": [
    "#histogram of COL plus rent values\n",
    "\n",
    "sns.histplot(data=cost_of_living, x=\"COL_Plus_Rent\")"
   ]
  },
  {
   "cell_type": "code",
   "execution_count": 105,
   "metadata": {},
   "outputs": [],
   "source": [
    "#saving COL information for analysis\n",
    "\n",
    "cost_of_living.to_csv(\"./COL.csv\")"
   ]
  },
  {
   "cell_type": "markdown",
   "metadata": {},
   "source": [
    "# "
   ]
  }
 ],
 "metadata": {
  "kernelspec": {
   "display_name": "Python 3",
   "language": "python",
   "name": "python3"
  },
  "language_info": {
   "codemirror_mode": {
    "name": "ipython",
    "version": 3
   },
   "file_extension": ".py",
   "mimetype": "text/x-python",
   "name": "python",
   "nbconvert_exporter": "python",
   "pygments_lexer": "ipython3",
   "version": "3.8.5"
  }
 },
 "nbformat": 4,
 "nbformat_minor": 4
}
